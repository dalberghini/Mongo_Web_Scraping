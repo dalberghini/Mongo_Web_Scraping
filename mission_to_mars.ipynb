{
 "cells": [
  {
   "cell_type": "code",
   "execution_count": 2,
   "metadata": {},
   "outputs": [],
   "source": [
    "from splinter import Browser\n",
    "from bs4 import BeautifulSoup\n",
    "from webdriver_manager.chrome import ChromeDriverManager\n",
    "import time\n",
    "import pandas as pd"
   ]
  },
  {
   "cell_type": "code",
   "execution_count": 3,
   "metadata": {
    "scrolled": true
   },
   "outputs": [
    {
     "name": "stderr",
     "output_type": "stream",
     "text": [
      "[WDM] - ====== WebDriver manager ======\n"
     ]
    },
    {
     "name": "stdout",
     "output_type": "stream",
     "text": [
      "\n",
      "\n"
     ]
    },
    {
     "name": "stderr",
     "output_type": "stream",
     "text": [
      "[WDM] - Current google-chrome version is 89.0.4389\n",
      "[WDM] - Get LATEST driver version for 89.0.4389\n",
      "[WDM] - Driver [C:\\Users\\david\\.wdm\\drivers\\chromedriver\\win32\\89.0.4389.23\\chromedriver.exe] found in cache\n"
     ]
    }
   ],
   "source": [
    "executable_path = {'executable_path': ChromeDriverManager().install()}\n",
    "browser = Browser('chrome', **executable_path, headless=False)\n",
    "\n",
    "url = \"https://mars.nasa.gov/news/\"\n"
   ]
  },
  {
   "cell_type": "code",
   "execution_count": 4,
   "metadata": {},
   "outputs": [],
   "source": [
    "browser.visit(url)\n",
    "time.sleep(1)\n",
    "html = browser.html\n",
    "soup = BeautifulSoup(html, 'html.parser')\n",
    "titles_body_soup = soup.find_all(\"div\", class_ = (\"content_title\", \"article_teaser_body\"))"
   ]
  },
  {
   "cell_type": "code",
   "execution_count": 5,
   "metadata": {},
   "outputs": [
    {
     "data": {
      "text/plain": [
       "91"
      ]
     },
     "metadata": {},
     "output_type": "display_data"
    },
    {
     "data": {
      "text/plain": [
       "45"
      ]
     },
     "metadata": {},
     "output_type": "display_data"
    },
    {
     "data": {
      "text/plain": [
       "46"
      ]
     },
     "metadata": {},
     "output_type": "display_data"
    },
    {
     "data": {
      "text/plain": [
       "45"
      ]
     },
     "metadata": {},
     "output_type": "display_data"
    }
   ],
   "source": [
    "display(len(titles_body_soup))\n",
    "title_list = []\n",
    "news_list = []\n",
    "for i,x in enumerate(titles_body_soup):\n",
    "    if i % 2 == 0:\n",
    "        news_list.append(x.text)\n",
    "    else:\n",
    "        title_list.append(x.text)\n",
    "display(len(title_list))\n",
    "display(len(news_list))\n",
    "#news list has extra line due to div content_title from nav bar element\n",
    "news_list = news_list[1:49]\n",
    "display(len(news_list))"
   ]
  },
  {
   "cell_type": "code",
   "execution_count": 6,
   "metadata": {},
   "outputs": [],
   "source": [
    "jpl_url = \"https://www.jpl.nasa.gov/images?search=&category=Mars\"\n",
    "browser.visit(jpl_url)\n",
    "time.sleep(.5)\n",
    "browser.find_by_css(\"img.BaseImage\").click()\n",
    "browser.find_by_css(\"svg.IconExpand\").click()"
   ]
  },
  {
   "cell_type": "code",
   "execution_count": 7,
   "metadata": {},
   "outputs": [],
   "source": [
    "jpl_html = browser.html\n",
    "soup0 = BeautifulSoup(jpl_html, \"html.parser\")\n",
    "featured_image_jpg = soup0.find_all(\"div\", class_ =\"BaseLightbox__slide__img\")[0](\"img\")[0][\"src\"]\n"
   ]
  },
  {
   "cell_type": "code",
   "execution_count": 8,
   "metadata": {},
   "outputs": [],
   "source": [
    "mars_url = \"https://space-facts.com/mars/\"\n",
    "browser.visit(mars_url)\n",
    "mars_table = pd.read_html(mars_url)"
   ]
  },
  {
   "cell_type": "code",
   "execution_count": 9,
   "metadata": {},
   "outputs": [
    {
     "data": {
      "text/html": [
       "<div>\n",
       "<style scoped>\n",
       "    .dataframe tbody tr th:only-of-type {\n",
       "        vertical-align: middle;\n",
       "    }\n",
       "\n",
       "    .dataframe tbody tr th {\n",
       "        vertical-align: top;\n",
       "    }\n",
       "\n",
       "    .dataframe thead th {\n",
       "        text-align: right;\n",
       "    }\n",
       "</style>\n",
       "<table border=\"1\" class=\"dataframe\">\n",
       "  <thead>\n",
       "    <tr style=\"text-align: right;\">\n",
       "      <th></th>\n",
       "      <th>Mars</th>\n",
       "      <th>Earth</th>\n",
       "    </tr>\n",
       "    <tr>\n",
       "      <th>Mars - Earth Comparison</th>\n",
       "      <th></th>\n",
       "      <th></th>\n",
       "    </tr>\n",
       "  </thead>\n",
       "  <tbody>\n",
       "    <tr>\n",
       "      <th>Diameter:</th>\n",
       "      <td>6,779 km</td>\n",
       "      <td>12,742 km</td>\n",
       "    </tr>\n",
       "    <tr>\n",
       "      <th>Mass:</th>\n",
       "      <td>6.39 × 10^23 kg</td>\n",
       "      <td>5.97 × 10^24 kg</td>\n",
       "    </tr>\n",
       "    <tr>\n",
       "      <th>Moons:</th>\n",
       "      <td>2</td>\n",
       "      <td>1</td>\n",
       "    </tr>\n",
       "    <tr>\n",
       "      <th>Distance from Sun:</th>\n",
       "      <td>227,943,824 km</td>\n",
       "      <td>149,598,262 km</td>\n",
       "    </tr>\n",
       "    <tr>\n",
       "      <th>Length of Year:</th>\n",
       "      <td>687 Earth days</td>\n",
       "      <td>365.24 days</td>\n",
       "    </tr>\n",
       "    <tr>\n",
       "      <th>Temperature:</th>\n",
       "      <td>-87 to -5 °C</td>\n",
       "      <td>-88 to 58°C</td>\n",
       "    </tr>\n",
       "  </tbody>\n",
       "</table>\n",
       "</div>"
      ],
      "text/plain": [
       "                                    Mars            Earth\n",
       "Mars - Earth Comparison                                  \n",
       "Diameter:                       6,779 km        12,742 km\n",
       "Mass:                    6.39 × 10^23 kg  5.97 × 10^24 kg\n",
       "Moons:                                 2                1\n",
       "Distance from Sun:        227,943,824 km   149,598,262 km\n",
       "Length of Year:           687 Earth days      365.24 days\n",
       "Temperature:                -87 to -5 °C      -88 to 58°C"
      ]
     },
     "metadata": {},
     "output_type": "display_data"
    },
    {
     "data": {
      "text/html": [
       "<div>\n",
       "<style scoped>\n",
       "    .dataframe tbody tr th:only-of-type {\n",
       "        vertical-align: middle;\n",
       "    }\n",
       "\n",
       "    .dataframe tbody tr th {\n",
       "        vertical-align: top;\n",
       "    }\n",
       "\n",
       "    .dataframe thead th {\n",
       "        text-align: right;\n",
       "    }\n",
       "</style>\n",
       "<table border=\"1\" class=\"dataframe\">\n",
       "  <thead>\n",
       "    <tr style=\"text-align: right;\">\n",
       "      <th></th>\n",
       "      <th>Mars</th>\n",
       "    </tr>\n",
       "    <tr>\n",
       "      <th>Description</th>\n",
       "      <th></th>\n",
       "    </tr>\n",
       "  </thead>\n",
       "  <tbody>\n",
       "    <tr>\n",
       "      <th>Equatorial Diameter:</th>\n",
       "      <td>6,792 km</td>\n",
       "    </tr>\n",
       "    <tr>\n",
       "      <th>Polar Diameter:</th>\n",
       "      <td>6,752 km</td>\n",
       "    </tr>\n",
       "    <tr>\n",
       "      <th>Mass:</th>\n",
       "      <td>6.39 × 10^23 kg (0.11 Earths)</td>\n",
       "    </tr>\n",
       "    <tr>\n",
       "      <th>Moons:</th>\n",
       "      <td>2 (Phobos &amp; Deimos)</td>\n",
       "    </tr>\n",
       "    <tr>\n",
       "      <th>Orbit Distance:</th>\n",
       "      <td>227,943,824 km (1.38 AU)</td>\n",
       "    </tr>\n",
       "    <tr>\n",
       "      <th>Orbit Period:</th>\n",
       "      <td>687 days (1.9 years)</td>\n",
       "    </tr>\n",
       "    <tr>\n",
       "      <th>Surface Temperature:</th>\n",
       "      <td>-87 to -5 °C</td>\n",
       "    </tr>\n",
       "    <tr>\n",
       "      <th>First Record:</th>\n",
       "      <td>2nd millennium BC</td>\n",
       "    </tr>\n",
       "    <tr>\n",
       "      <th>Recorded By:</th>\n",
       "      <td>Egyptian astronomers</td>\n",
       "    </tr>\n",
       "  </tbody>\n",
       "</table>\n",
       "</div>"
      ],
      "text/plain": [
       "                                               Mars\n",
       "Description                                        \n",
       "Equatorial Diameter:                       6,792 km\n",
       "Polar Diameter:                            6,752 km\n",
       "Mass:                 6.39 × 10^23 kg (0.11 Earths)\n",
       "Moons:                          2 (Phobos & Deimos)\n",
       "Orbit Distance:            227,943,824 km (1.38 AU)\n",
       "Orbit Period:                  687 days (1.9 years)\n",
       "Surface Temperature:                   -87 to -5 °C\n",
       "First Record:                     2nd millennium BC\n",
       "Recorded By:                   Egyptian astronomers"
      ]
     },
     "metadata": {},
     "output_type": "display_data"
    },
    {
     "name": "stdout",
     "output_type": "stream",
     "text": [
      "<table border=\"1\" class=\"dataframe\">\n",
      "  <thead>\n",
      "    <tr style=\"text-align: right;\">\n",
      "      <th></th>\n",
      "      <th>0</th>\n",
      "      <th>1</th>\n",
      "    </tr>\n",
      "  </thead>\n",
      "  <tbody>\n",
      "    <tr>\n",
      "      <th>0</th>\n",
      "      <td>Equatorial Diameter:</td>\n",
      "      <td>6,792 km</td>\n",
      "    </tr>\n",
      "    <tr>\n",
      "      <th>1</th>\n",
      "      <td>Polar Diameter:</td>\n",
      "      <td>6,752 km</td>\n",
      "    </tr>\n",
      "    <tr>\n",
      "      <th>2</th>\n",
      "      <td>Mass:</td>\n",
      "      <td>6.39 × 10^23 kg (0.11 Earths)</td>\n",
      "    </tr>\n",
      "    <tr>\n",
      "      <th>3</th>\n",
      "      <td>Moons:</td>\n",
      "      <td>2 (Phobos &amp; Deimos)</td>\n",
      "    </tr>\n",
      "    <tr>\n",
      "      <th>4</th>\n",
      "      <td>Orbit Distance:</td>\n",
      "      <td>227,943,824 km (1.38 AU)</td>\n",
      "    </tr>\n",
      "    <tr>\n",
      "      <th>5</th>\n",
      "      <td>Orbit Period:</td>\n",
      "      <td>687 days (1.9 years)</td>\n",
      "    </tr>\n",
      "    <tr>\n",
      "      <th>6</th>\n",
      "      <td>Surface Temperature:</td>\n",
      "      <td>-87 to -5 °C</td>\n",
      "    </tr>\n",
      "    <tr>\n",
      "      <th>7</th>\n",
      "      <td>First Record:</td>\n",
      "      <td>2nd millennium BC</td>\n",
      "    </tr>\n",
      "    <tr>\n",
      "      <th>8</th>\n",
      "      <td>Recorded By:</td>\n",
      "      <td>Egyptian astronomers</td>\n",
      "    </tr>\n",
      "  </tbody>\n",
      "</table>\n"
     ]
    }
   ],
   "source": [
    "# mars_df = DataFrame(mars_table[0])\n",
    "planet_comparison_df = mars_table[1].set_index(\"Mars - Earth Comparison\")\n",
    "display(planet_comparison_df)\n",
    "mars_facts = mars_table[0].rename(columns = ({0 : \"Description\", 1 : \"Mars\"})).set_index(\"Description\")\n",
    "display(mars_facts)\n",
    "\n",
    "mars_html = mars_table[0].to_html()\n",
    "print(mars_html)\n",
    "created_html = open(\"mars_table.html\", \"w\")\n",
    "created_html.write(mars_html)\n",
    "created_html.close()"
   ]
  },
  {
   "cell_type": "code",
   "execution_count": 10,
   "metadata": {},
   "outputs": [],
   "source": [
    "hemisphere_dict_list = []\n",
    "hemisphere_images_urls = {}\n",
    "hemi_url = \"https://astrogeology.usgs.gov/search/results?q=hemisphere+enhanced&k1=target&v1=Mars\"\n",
    "browser.visit(hemi_url)\n",
    "time.sleep(.5)\n",
    "for x in range(4):\n",
    "    browser.find_by_css(\"img.thumb\")[x].click()\n",
    "    browser.find_by_css(\"a.open-toggle\").click()\n",
    "    large_hemi_html = browser.html\n",
    "    hemi_soup = BeautifulSoup(large_hemi_html, \"html.parser\")\n",
    "    title= hemi_soup(\"h2\", class_ = \"title\")[0].text\n",
    "    hemisphere_images_urls[\"title\"] = title.replace(\" Enhanced\", \"\")\n",
    "    hemisphere_images_urls[\"img_url\"] = hemi_soup(\"img\", class_ = \"wide-image\")[0][\"src\"]\n",
    "    hemisphere_dict_list.append(hemisphere_images_urls)\n",
    "    browser.visit(hemi_url)\n",
    "    hemisphere_images_urls = {}\n",
    "hemisphere_dict_list\n",
    "browser.quit()"
   ]
  },
  {
   "cell_type": "code",
   "execution_count": 12,
   "metadata": {},
   "outputs": [
    {
     "data": {
      "text/plain": [
       "{'article title': ['Another First: Perseverance Captures the Sounds of Driving on Mars',\n",
       "  'NASA to Host Briefing to Preview First Mars Helicopter Flights',\n",
       "  \"New Study Challenges Long-Held Theory of Fate of Mars' Water\",\n",
       "  \"NASA's Perseverance Mars Rover Mission Honors Navajo Language\",\n",
       "  \"Perseverance Rover's SuperCam Science Instrument Delivers First Results\",\n",
       "  \"NASA's Perseverance Drives on Mars' Terrain for First Time\",\n",
       "  'Media Telecon Materials - March 5, 2021',\n",
       "  'NASA Awards Mars Ascent Propulsion System Contract for Sample Return',\n",
       "  \"NASA to Provide Update on Perseverance ‘Firsts' Since Mars Landing \",\n",
       "  'Testing Proves Its Worth With Successful Mars Parachute Deployment',\n",
       "  \"NASA's Perseverance Rover Gives High-Definition Panoramic View of Landing Site\",\n",
       "  'Nearly 11 Million Names of Earthlings are on Mars Perseverance',\n",
       "  \"NASA's Mars Perseverance Rover Provides Front-Row Seat to Landing, First Audio Recording of Red Planet \",\n",
       "  'NASA to Reveal New Video, Images From Mars Perseverance Rover',\n",
       "  \"NASA's Mars Helicopter Reports In \",\n",
       "  \"NASA's Perseverance Rover Sends Sneak Peek of Mars Landing\",\n",
       "  \"Touchdown! NASA's Mars Perseverance Rover Safely Lands on Red Planet\",\n",
       "  \"Searching for Life in NASA's Perseverance Mars Samples\",\n",
       "  \"The Mars Relay Network Connects Us to NASA's Martian Explorers\",\n",
       "  \"NASA's Next Mars Rover Is Ready for the Most Precise Landing Yet\",\n",
       "  \"Sensors Prepare to Collect Data as Perseverance Enters Mars' Atmosphere\",\n",
       "  'InSight Is Meeting the Challenge of Winter on Dusty Mars',\n",
       "  'NASA Invites Public to Share Thrill of Mars Perseverance Rover Landing',\n",
       "  'Tricky Terrain: Helping to Assure a Safe Rover Landing',\n",
       "  'Where Should Future Astronauts Land on Mars? Follow the Water',\n",
       "  \"NASA's Perseverance Pays Off Back Home\",\n",
       "  'Could the Surface of Phobos Reveal Secrets of the Martian Past?',\n",
       "  \"NASA's MAVEN Continues to Advance Mars Science and Telecommunications Relay Efforts\",\n",
       "  \"NASA's Perseverance Rover 22 Days From Mars Landing\",\n",
       "  \"6 Things to Know About NASA's Mars Helicopter on Its Way to Mars\",\n",
       "  'NASA to Host Virtual Briefing on February Perseverance Mars Rover Landing',\n",
       "  \"NASA InSight's ‘Mole' Ends Its Journey on Mars\",\n",
       "  'Mars 2020 Perseverance Rover to Capture Sounds From the Red Planet',\n",
       "  \"NASA's Curiosity Rover Reaches Its 3,000th Day on Mars\",\n",
       "  \"Celebrate the Perseverance Rover Landing With NASA's Student Challenge\",\n",
       "  'NASA Extends Exploration for Two Planetary Science Missions',\n",
       "  '7 Things to Know About the NASA Rover About to Land on Mars',\n",
       "  \"A Martian Roundtrip: NASA's Perseverance Rover Sample Tubes\",\n",
       "  'NASA Moves Forward With Campaign to Return Mars Samples to Earth',\n",
       "  \"3 Things We've Learned From NASA's Mars InSight \",\n",
       "  '\\n\\nNASA to Reveal New Video, Images From Mars Perseverance Rover\\n\\n',\n",
       "  \"\\n\\nNASA's Perseverance Drives on Mars' Terrain for First Time\\n\\n\",\n",
       "  \"\\n\\nNASA to Provide Update on Perseverance ‘Firsts' Since Mars Landing \\n\\n\",\n",
       "  '\\n\\nNASA to Reveal New Video, Images From Mars Perseverance Rover\\n\\n',\n",
       "  \"\\n\\nNASA's Perseverance Drives on Mars' Terrain for First Time\\n\\n\"],\n",
       " 'news_list': ['NASA’s newest rover recorded audio of itself crunching over the surface of the Red Planet, adding a whole new dimension to Mars exploration.',\n",
       "  'Members of the projects will lay out the steps necessary before the helicopter attempts its historic test flights. ',\n",
       "  'The new science results indicate that a large quantity of the Red Planet’s water is trapped in its crust rather than having escaped into space.',\n",
       "  'Working with the Navajo Nation, the rover team has named features on Mars with words from the Navajo language.',\n",
       "  'Data from the powerful science tool includes sounds of its laser zapping a rock in order to test what it’s made of.',\n",
       "  'The first trek of the agency’s largest, most advanced rover yet on the Red Planet marks a major milestone before science operations get under way.',\n",
       "  'Mission team members are participating in a virtual teleconference to discuss milestones achieved so far since the Feb. 18 landing and those to come.',\n",
       "  'The award moves NASA and ESA a step closer to realizing Mars Sample Return, an ambitious planetary exploration program that will build upon decades of science, knowledge, and experience.',\n",
       "  'Mission team members are participating in a virtual teleconference to discuss milestones achieved so far since the Feb. 18 landing and those to come.',\n",
       "  'The giant canopy that helped land Perseverance on Mars was tested here on Earth at NASA’s Wallops Flight Facility in Virginia.',\n",
       "  'A 360-degree panorama taken by the rover’s Mastcam-Z instrument will be discussed during a public video chat this Thursday.',\n",
       "  'When the Perseverance rover safely touched down on the Martian surface, inside Jezero Crater, on Feb. 18, 2021, it was also a safe landing for the nearly 11 million names on board.',\n",
       "  'The agency’s newest rover captured first-of-its kind footage of its Feb. 18 touchdown and has recorded audio of Martian wind.\\n\\n',\n",
       "  'First-of-its kind footage from the agency’s newest rover will be presented during a briefing this morning.',\n",
       "  'The technology demonstration has phoned home from where it is attached to the belly of NASA’s Perseverance rover. ',\n",
       "  'The six-wheeled robot’s latest data since touching down yesterday include a hi-res image captured as the rover’s jetpack lowered it to the ground.',\n",
       "  'The agency’s latest and most complex mission to the Red Planet has touched down at Jezero Crater. Now it’s time to begin testing the health of the rover.  ',\n",
       "  'When the agency’s newest rover mission searches for fossilized microscopic life on the Red Planet, how will scientists know whether they’ve found it?',\n",
       "  'A tightly choreographed dance between NASA’s Deep Space Network and Mars orbiters will keep the agency’s Perseverance in touch with Earth during landing and beyond.',\n",
       "  'What to expect when the Mars 2020 Perseverance rover arrives at the Red Planet on Feb. 18, 2021.',\n",
       "  'Technology will collect critical data about the harsh entry environment during Perseverance’s entry next Thursday.',\n",
       "  'As dust collects on the solar panels and winter comes to Elysium Planitia, the team is following a plan to reduce science operations in order to keep the lander safe.',\n",
       "  'Mark your calendars for live landing commentary, news briefings, livestreamed Q&As, virtual watch parties, student activities, and more.',\n",
       "  'How two new technologies will help Perseverance, NASA’s most sophisticated rover yet, touch down onto the surface of Mars this month.',\n",
       "  'A new NASA paper provides the most detailed map to date of near-surface water ice on the Red Planet.',\n",
       "  'Even as the Perseverance rover approaches Mars, technology on board is paying off on Earth.',\n",
       "  'The Martian moon Phobos orbits through a stream of charged atoms and molecules that flow off the Red Planet’s atmosphere, new research shows.',\n",
       "  'With a suite of new national and international spacecraft primed to explore the Red Planet after their arrival next month, NASA’s MAVEN mission is ready to provide support and continue its study of the Martian atmosphere.',\n",
       "  'Seven minutes of harrowing descent to the Red Planet is in the not-so-distant future for the agency’s Mars 2020 mission.  ',\n",
       "  'Ingenuity, a technology experiment, is preparing to attempt the first powered, controlled flight on the Red Planet.',\n",
       "  'NASA leadership and members of the mission will discuss the agency’s latest rover, which touches down on the Red Planet on Feb. 18.',\n",
       "  'The heat probe hasn’t been able to gain the friction it needs to dig, but the mission has been granted an extension to carry on with its other science.',\n",
       "  'Audio gathered by the mission may not sound quite the same on Mars as it would to our ears on Earth. A new interactive online experience lets you sample the difference.',\n",
       "  'As the rover has continued to ascend Mount Sharp, it’s found distinctive benchlike rock formations.',\n",
       "  'The rover touches down on the Red Planet next month, and students are invited to join the excitement by designing, building, and landing their own Mars mission. NASA can help.',\n",
       "  'The missions – Juno and InSight – have each increased our understanding of our solar system, as well as spurred new sets of diverse questions.',\n",
       "  'The Mars 2020 Perseverance rover, which has started its approach to the Red Planet, will help answer the next logical question in Mars exploration.',\n",
       "  \"Marvels of engineering, the rover's sample tubes must be tough enough to safely bring Red Planet samples on the long journey back to Earth in immaculate condition. \",\n",
       "  'During this next phase, the program will mature critical technologies and make critical design decisions as well as assess industry partnerships.',\n",
       "  'Scientists are finding new mysteries since the geophysics mission landed two years ago.',\n",
       "  \"\\n\\nNASA's Next Mars Rover Is Ready for the Most Precise Landing Yet\\n\\n\",\n",
       "  '\\n\\nNASA Awards Mars Ascent Propulsion System Contract for Sample Return\\n\\n',\n",
       "  \"\\n\\nNASA's Mars Perseverance Rover Provides Front-Row Seat to Landing, First Audio Recording of Red Planet \\n\\n\",\n",
       "  \"\\n\\nNASA's Next Mars Rover Is Ready for the Most Precise Landing Yet\\n\\n\",\n",
       "  '\\n\\nNASA Awards Mars Ascent Propulsion System Contract for Sample Return\\n\\n'],\n",
       " 'featured_image': 'https://d2pn8kiwq2w21t.cloudfront.net/original_images/jpegPIA24505.jpg',\n",
       " 'mars table':                                                Mars\n",
       " Description                                        \n",
       " Equatorial Diameter:                       6,792 km\n",
       " Polar Diameter:                            6,752 km\n",
       " Mass:                 6.39 × 10^23 kg (0.11 Earths)\n",
       " Moons:                          2 (Phobos & Deimos)\n",
       " Orbit Distance:            227,943,824 km (1.38 AU)\n",
       " Orbit Period:                  687 days (1.9 years)\n",
       " Surface Temperature:                   -87 to -5 °C\n",
       " First Record:                     2nd millennium BC\n",
       " Recorded By:                   Egyptian astronomers,\n",
       " 'hemisphere_dict_list': [{'title': 'Cerberus Hemisphere',\n",
       "   'img_url': '/cache/images/f5e372a36edfa389625da6d0cc25d905_cerberus_enhanced.tif_full.jpg'},\n",
       "  {'title': 'Schiaparelli Hemisphere',\n",
       "   'img_url': '/cache/images/3778f7b43bbbc89d6e3cfabb3613ba93_schiaparelli_enhanced.tif_full.jpg'},\n",
       "  {'title': 'Syrtis Major Hemisphere',\n",
       "   'img_url': '/cache/images/555e6403a6ddd7ba16ddb0e471cadcf7_syrtis_major_enhanced.tif_full.jpg'},\n",
       "  {'title': 'Valles Marineris Hemisphere',\n",
       "   'img_url': '/cache/images/b3c7c6c9138f57b4756be9b9c43e3a48_valles_marineris_enhanced.tif_full.jpg'}]}"
      ]
     },
     "execution_count": 12,
     "metadata": {},
     "output_type": "execute_result"
    }
   ],
   "source": [
    "dict_data = {}\n",
    "dict_data[\"article title\"]  = title_list\n",
    "dict_data[\"news_list\"] = news_list\n",
    "dict_data[\"featured_image\"] = featured_image_jpg\n",
    "dict_data[\"mars table\" ] = mars_facts\n",
    "dict_data[\"hemisphere_dict_list\"] = hemisphere_dict_list\n",
    "dict_data"
   ]
  },
  {
   "cell_type": "code",
   "execution_count": null,
   "metadata": {},
   "outputs": [],
   "source": []
  }
 ],
 "metadata": {
  "kernelspec": {
   "display_name": "Python 3",
   "language": "python",
   "name": "python3"
  },
  "language_info": {
   "codemirror_mode": {
    "name": "ipython",
    "version": 3
   },
   "file_extension": ".py",
   "mimetype": "text/x-python",
   "name": "python",
   "nbconvert_exporter": "python",
   "pygments_lexer": "ipython3",
   "version": "3.8.5"
  }
 },
 "nbformat": 4,
 "nbformat_minor": 4
}
